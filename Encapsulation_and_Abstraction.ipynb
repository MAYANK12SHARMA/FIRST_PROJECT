{
  "nbformat": 4,
  "nbformat_minor": 0,
  "metadata": {
    "colab": {
      "provenance": [],
      "include_colab_link": true
    },
    "kernelspec": {
      "name": "python3",
      "display_name": "Python 3"
    },
    "language_info": {
      "name": "python"
    }
  },
  "cells": [
    {
      "cell_type": "markdown",
      "metadata": {
        "id": "view-in-github",
        "colab_type": "text"
      },
      "source": [
        "<a href=\"https://colab.research.google.com/github/MAYANK12SHARMA/FIRST_PROJECT/blob/main/Encapsulation_and_Abstraction.ipynb\" target=\"_parent\"><img src=\"https://colab.research.google.com/assets/colab-badge.svg\" alt=\"Open In Colab\"/></a>"
      ]
    },
    {
      "cell_type": "markdown",
      "source": [
        "Problem Statement: Bank Account Management System\n",
        "\n",
        "You are tasked with designing a simple Bank Account Management System using object-oriented programming principles in Python. The system should be able to handle basic operations such as deposit, withdrawal, and balance inquiry for a bank account. Implement encapsulation to ensure data integrity and restrict direct access to the internal state of the bank account.\n",
        "\n",
        "Requirements:\n",
        "\n",
        "Create a BankAccount class with the following attributes:\n",
        "\n",
        "- Account holder's name\n",
        "- Account balance\n",
        "- Provide an initialization method (__init__) to set the initial values of the account holder's name and balance. If no balance is specified, it should default to zero.\n",
        "\n",
        "Implement methods for the following operations:\n",
        "\n",
        "- Deposit: Add a specified amount to the account balance.\n",
        "- Withdraw: Deduct a specified amount from the account balance. Ensure that the withdrawal amount does not exceed the account balance.\n",
        "- Get Balance: Retrieve the current account balance.\n",
        "- Get Account Holder: Retrieve the name of the account holder.\n",
        "\n",
        "Use encapsulation to hide the internal attributes (account_holder and balance). Access to these attributes should only be possible through the provided methods.\n",
        "\n",
        "Provide appropriate error handling for invalid transactions, such as attempting to withdraw more money than is available in the account.\n",
        "\n",
        "Create an instance of the BankAccount class and demonstrate its functionality by performing various transactions (deposits, withdrawals) and displaying the account information."
      ],
      "metadata": {
        "id": "1-mIpimTiU5P"
      }
    },
    {
      "cell_type": "code",
      "execution_count": null,
      "metadata": {
        "id": "dXKI0BJ8LeyE",
        "colab": {
          "base_uri": "https://localhost:8080/"
        },
        "outputId": "b39b0c77-478e-43d2-b559-17db1f34f0da"
      },
      "outputs": [
        {
          "output_type": "stream",
          "name": "stdout",
          "text": [
            "Account holder: John Doe\n",
            "Balance: 1000\n",
            "Deposited $500. New balance: $1500\n",
            "Withdrew $200. New balance: $1300\n",
            "Invalid withdrawal amount or insufficient funds.\n"
          ]
        }
      ],
      "source": [
        "#Encapsulation\n",
        "\n",
        "class BankAccount:\n",
        "    def __init__(self, account_holder, balance=0):\n",
        "        self.account_holder = account_holder\n",
        "        self.balance = balance\n",
        "\n",
        "    def deposit(self, amount):\n",
        "        if amount > 0:\n",
        "            self.balance += amount\n",
        "            print(f\"Deposited ${amount}. New balance: ${self.balance}\")\n",
        "        else:\n",
        "            print(\"Invalid deposit amount. Please enter a positive value.\")\n",
        "\n",
        "    def withdraw(self, amount):\n",
        "        if 0 < amount <= self.balance:\n",
        "            self.balance -= amount\n",
        "            print(f\"Withdrew ${amount}. New balance: ${self.balance}\")\n",
        "        else:\n",
        "            print(\"Invalid withdrawal amount or insufficient funds.\")\n",
        "\n",
        "    def get_balance(self):\n",
        "        return self.balance\n",
        "\n",
        "    def get_account_holder(self):\n",
        "        return self.account_holder\n",
        "\n",
        "\n",
        "    # Creating an instance of BankAccount\n",
        "my_account = BankAccount(account_holder=\"John Doe\", balance=1000)\n",
        "\n",
        "\n",
        "    # Using encapsulation to access attributes through methods\n",
        "print(\"Account holder:\", my_account.get_account_holder())\n",
        "print(\"Balance:\", my_account.get_balance())\n",
        "\n",
        "    # Performing transactions\n",
        "my_account.deposit(500)\n",
        "my_account.withdraw(200)\n",
        "my_account.withdraw(1500)  # This will print an error message due to insufficient funds"
      ]
    },
    {
      "cell_type": "markdown",
      "source": [
        "#1. Student Grade Calculator:\n",
        "\n",
        "Problem Statement:\n",
        "\n",
        "Create a Student class that calculates the grade of a student based on their average score. Implement a method calculate_grade that takes the average score as a parameter and returns the corresponding letter grade. The grading scale is as follows:\n",
        "\n",
        "A: 90-100\n",
        "\n",
        "B: 80-89\n",
        "\n",
        "C: 70-79\n",
        "\n",
        "D: 60-69\n",
        "\n",
        "F: 0-59\n",
        "\n",
        "**Sample Input**:\n",
        "\n",
        "student1 = Student()\n",
        "\n",
        "student2 = Student()\n",
        "\n",
        "student3 = Student()\n",
        "\n",
        "print(\"Student 1 Grade:\", student1.calculate_grade(95))\n",
        "\n",
        "print(\"Student 2 Grade:\", student2.calculate_grade(78))\n",
        "\n",
        "print(\"Student 3 Grade:\", student3.calculate_grade(42))\n",
        "\n",
        "**Sample Output:**\n",
        "\n",
        "Student 1 Grade: A\n",
        "\n",
        "Student 2 Grade: C\n",
        "\n",
        "Student 3 Grade: F\n"
      ],
      "metadata": {
        "id": "7aRpmVO8_kjb"
      }
    },
    {
      "cell_type": "markdown",
      "source": [
        "#2. Product Discount Calculator:\n",
        "\n",
        "**Problem Statement:**\n",
        "\n",
        "Develop a Product class with a method calculate_discount that calculates the discounted price of a product based on its category. Implement the following discount rates:\n",
        "\n",
        "Electronics: 15%\n",
        "\n",
        "Clothing: 10%\n",
        "\n",
        "Books: 5%\n",
        "\n",
        "**Sample Input:**\n",
        "\n",
        "product1 = Product()\n",
        "\n",
        "product2 = Product()\n",
        "\n",
        "product3 = Product()\n",
        "\n",
        "\n",
        "print(\"Product 1 Discounted Price:\", product1.calculate_discount(\"Electronics\", 200))\n",
        "\n",
        "print(\"Product 2 Discounted Price:\", product2.calculate_discount(\"Clothing\", 50))\n",
        "\n",
        "print(\"Product 3 Discounted Price:\", product3.calculate_discount(\"Books\", 30))\n",
        "\n",
        "\n",
        "**Sample Output:**\n",
        "\n",
        "Product 1 Discounted Price: 170.0\n",
        "\n",
        "Product 2 Discounted Price: 45.0\n",
        "\n",
        "Product 3 Discounted Price: 28.5\n",
        "\n"
      ],
      "metadata": {
        "id": "Xt3pKO9sQp-e"
      }
    },
    {
      "cell_type": "markdown",
      "source": [
        "#3. Weather Condition Analyzer:\n",
        "**Problem Statement:**\n",
        "\n",
        "Design a WeatherAnalyzer class with a method analyze_condition that provides a weather condition based on temperature. Implement the following conditions:\n",
        "\n",
        "\n",
        "Cold: Below 50°F\n",
        "\n",
        "Moderate: 50-75°F\n",
        "\n",
        "Warm: 76-90°F\n",
        "\n",
        "Hot: Above 90°F\n",
        "\n",
        "\n",
        "**Sample Input:**\n",
        "\n",
        "weather1 = WeatherAnalyzer()\n",
        "\n",
        "weather2 = WeatherAnalyzer()\n",
        "\n",
        "weather3 = WeatherAnalyzer()\n",
        "\n",
        "print(\"Weather 1 Condition:\", weather1.analyze_condition(35))\n",
        "\n",
        "print(\"Weather 2 Condition:\", weather2.analyze_condition(65))\n",
        "\n",
        "print(\"Weather 3 Condition:\", weather3.analyze_condition(95))\n",
        "\n",
        "\n",
        "**Sample Output:**\n",
        "\n",
        "Weather 1 Condition: Cold\n",
        "\n",
        "Weather 2 Condition: Moderate\n",
        "\n",
        "Weather 3 Condition: Hot"
      ],
      "metadata": {
        "id": "AqqxDNLFdOdN"
      }
    }
  ]
}